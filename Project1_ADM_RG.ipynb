{
 "cells": [
  {
   "cell_type": "code",
   "execution_count": null,
   "id": "1359d7b0-36b5-48d1-a363-e549ce752dd1",
   "metadata": {},
   "outputs": [],
   "source": [
    "#Abelardo's code to work on HPG\n",
    "\n",
    "import pandas as pd\n",
    "import matplotlib.pyplot as plt\n",
    "import numpy as np\n",
    "import seaborn as sns\n",
    "%matplotlib inline\n",
    "\n",
    "df = pd.read_csv('/blue/bsc4452/admontalvo/Class_Files/data/flights.1K.csv', sep=',') #displaying the flights.1K.csv data\n",
    "\n",
    "df.head(10) #print out the first 10 lines of the flights.1K.csv dataset \n"
   ]
  },
  {
   "cell_type": "code",
   "execution_count": null,
   "id": "12227ebf",
   "metadata": {},
   "outputs": [],
   "source": [
    "#Riley's code to work in local copies of flight data\n",
    "\n",
    "#import pandas as pd\n",
    "#import matplotlib.pyplot as plt\n",
    "#import numpy as np\n",
    "#import seaborn as sns\n",
    "#%matplotlib inline\n",
    "\n",
    "#df = pd.read_csv('/Users/rileygott/Library/CloudStorage/OneDrive-Personal/UF PhD Classes/BSC_6451_Computational_Tools_Research_Biology/github-account-rjgott/Code/Class_Files/data/flights.1K.csv', sep=',') #displaying the flights.1K.csv data\n",
    "\n",
    "#df.head(10)"
   ]
  },
  {
   "cell_type": "code",
   "execution_count": null,
   "id": "474b816b-6957-43fc-af9a-14ba046d19a4",
   "metadata": {},
   "outputs": [],
   "source": [
    "#print out the last 10 lines of the flights.1K.csv dataset \n",
    "df.tail(10)"
   ]
  },
  {
   "cell_type": "code",
   "execution_count": null,
   "id": "25c82079-5882-4201-b20a-5a737c455d3b",
   "metadata": {},
   "outputs": [],
   "source": [
    "# list of values of 'OP_UNIQUE_CARRIER' column in a listed format to be able to view all 4 flight services\n",
    "unique_carrier_col = df['OP_UNIQUE_CARRIER'].tolist()\n",
    "print(unique_carrier_col)\n"
   ]
  },
  {
   "cell_type": "code",
   "execution_count": null,
   "id": "01441202",
   "metadata": {},
   "outputs": [],
   "source": [
    "#Define function to count the number of times each carrier flew in this data set\n",
    "\n",
    "flight_carrier = df['OP_UNIQUE_CARRIER']\n",
    "\n",
    "def carrier_count():\n",
    "    count_AA = 0\n",
    "    count_DL = 0\n",
    "    count_OH = 0\n",
    "    count_YV = 0 \n",
    "\n",
    "    for line in flight_carrier:\n",
    "       if line.startswith('AA'):\n",
    "          count_AA = count_AA + 1\n",
    "       elif line.startswith('DL'):\n",
    "          count_DL = count_DL + 1\n",
    "       elif line.startswith('OH'):\n",
    "          count_OH = count_OH + 1\n",
    "       elif line.startswith('YV'):\n",
    "          count_YV = count_YV + 1\n",
    "       else:\n",
    "          print('Carrier not accounted for in count')\n",
    "        \n",
    "    return(\"AA:\", count_AA, \"DL:\", count_DL, \"OH:\", count_OH, \"YV:\", count_YV)\n",
    "\n",
    "\n",
    "carrier_count()\n"
   ]
  },
  {
   "cell_type": "code",
   "execution_count": null,
   "id": "3fb67b5e-e7f8-4e5d-8a1e-57141c933120",
   "metadata": {},
   "outputs": [],
   "source": [
    "#Assigning variables to the counts of the 4 flight carrier service of OP_UNIQUE_CARRIER column in the fights.1K.csv dataset\n",
    "ohio = unique_carrier_col.count('OH')\n",
    "american_airlines = unique_carrier_col.count('AA')\n",
    "vancouver = unique_carrier_col.count('YV')\n",
    "delta_airlines = unique_carrier_col.count('DL')"
   ]
  },
  {
   "cell_type": "code",
   "execution_count": null,
   "id": "acf11ec5-1156-46b9-a4c5-13453a291c01",
   "metadata": {},
   "outputs": [],
   "source": [
    "#Bar Chart of flight carrier services within the flights.1K.csv dataset\n",
    "\n",
    "# plotting two histograms on the same axis\n",
    "\n",
    "x = ['Ohio', 'American', 'Vancouver', 'Delta']\n",
    "y = [ohio, american_airlines, vancouver, delta_airlines]\n",
    "colors = ['red', 'blue', 'orange', 'green']\n",
    "plt.bar(x, y, color = colors)\n",
    "\n",
    "# Add title and axis names\n",
    "plt.title('Airport Carrier Accross the flights.1K.csv Dataset')\n",
    "plt.ylabel('Number of flights')\n",
    "plt.xlabel('Airport Carrier Service')\n",
    "\n",
    "plt.show()\n",
    "\n"
   ]
  },
  {
   "cell_type": "code",
   "execution_count": null,
   "id": "17f5cedf-a8e3-46f6-a3d5-7a24af603bac",
   "metadata": {},
   "outputs": [],
   "source": [
    "#Searching the file for OH OP_UNIQUE_CARRIER SImilair to grep in the command line\n",
    "import re #regular expressions package in python\n",
    "\n",
    "pattern = 'OH' #defining the term to search for\n",
    "\n",
    "file = open('flights.1K.csv', 'r') #opening a readable file \n",
    "\n",
    "for ohio in file: #searching the dataset for all instances with OH in them\n",
    "    if re.search(pattern, ohio):\n",
    "        print(ohio)\n"
   ]
  },
  {
   "cell_type": "code",
   "execution_count": null,
   "id": "0210faa8-1e00-4bff-800a-4d7eb9b3d83a",
   "metadata": {},
   "outputs": [],
   "source": [
    "#ploting the total values in a histogram\n",
    "#data = np.df.count()\n",
    "#plt.hist(data);\n"
   ]
  },
  {
   "cell_type": "code",
   "execution_count": null,
   "id": "c958c52a",
   "metadata": {},
   "outputs": [],
   "source": [
    "#Separating flights in the dataset to long, medium, and short flights and displaying the destination \n",
    "    #Defined function 'flight_distance_defined()' to separate flight distances into long, medium, short flight ranges\n",
    "\n",
    "flight_distance = df['DISTANCE'] #assigning variables to flight distances\n",
    "destination = df['DEST'] #assigning variables to destinations\n",
    "\n",
    "def flight_distance_defined():\n",
    "    for row in flight_distance:\n",
    "        if row > 800:\n",
    "            print(\"Long flight to:\" + destination)\n",
    "        elif 500 < row < 800:\n",
    "            print(\"Medium flight to:\" + destination)\n",
    "        else:\n",
    "            print(\"Short flight to:\" + destination)\n",
    "    \n",
    "    return()\n",
    "\n",
    "flight_distance_defined()"
   ]
  },
  {
   "cell_type": "code",
   "execution_count": null,
   "id": "c87e5f47-0104-4a7d-947d-f1d6e8e0e603",
   "metadata": {},
   "outputs": [],
   "source": [
    "air_count = 0\n",
    "flights = df['FLIGHTS']\n",
    "while flights > 1.0:\n",
    "    print(destination)\n",
    "   # if flight_time < 30.0:\n",
    "    #    break\n",
    "   # air_count+=1\n",
    "\n",
    "   "
   ]
  }
 ],
 "metadata": {
  "kernelspec": {
   "display_name": "Python 3.10.7 64-bit",
   "language": "python",
   "name": "python3"
  },
  "language_info": {
   "codemirror_mode": {
    "name": "ipython",
    "version": 3
   },
   "file_extension": ".py",
   "mimetype": "text/x-python",
   "name": "python",
   "nbconvert_exporter": "python",
   "pygments_lexer": "ipython3",
   "version": "3.10.7"
  },
  "vscode": {
   "interpreter": {
    "hash": "aee8b7b246df8f9039afb4144a1f6fd8d2ca17a180786b69acc140d282b71a49"
   }
  }
 },
 "nbformat": 4,
 "nbformat_minor": 5
}
